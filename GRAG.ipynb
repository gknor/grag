{
 "cells": [
  {
   "cell_type": "markdown",
   "id": "4e0d8919",
   "metadata": {},
   "source": [
    "# GRAG - a toy example"
   ]
  },
  {
   "cell_type": "markdown",
   "id": "c6dfef6c",
   "metadata": {},
   "source": [
    "Uncomment and install if you are missing a library."
   ]
  },
  {
   "cell_type": "code",
   "execution_count": 1,
   "id": "d29027a3",
   "metadata": {},
   "outputs": [],
   "source": [
    "# !pip install -qU \\\n",
    "#     nemoguardrails==0.4.0 \\\n",
    "#     chromadb==0.4.10 \\\n",
    "#     openai==0.27.8 \\\n",
    "#     tqdm==4.65.0"
   ]
  },
  {
   "cell_type": "markdown",
   "id": "cc9acbee",
   "metadata": {},
   "source": [
    "Let's import the necessary modules"
   ]
  },
  {
   "cell_type": "code",
   "execution_count": 3,
   "id": "0be1d425",
   "metadata": {},
   "outputs": [],
   "source": [
    "import chromadb\n",
    "import openai\n",
    "from chromadb.utils import embedding_functions\n",
    "import os\n",
    "import getpass\n",
    "from tqdm.notebook import tqdm\n",
    "from nemoguardrails import LLMRails, RailsConfig"
   ]
  },
  {
   "cell_type": "markdown",
   "id": "92116de8",
   "metadata": {},
   "source": [
    "Provide your OpenAI API key (https://help.openai.com/en/articles/4936850-where-do-i-find-my-secret-api-key):"
   ]
  },
  {
   "cell_type": "code",
   "execution_count": 4,
   "id": "57a05529",
   "metadata": {},
   "outputs": [
    {
     "name": "stdout",
     "output_type": "stream",
     "text": [
      "OpenAI API Key:········\n"
     ]
    }
   ],
   "source": [
    "openai.api_key = getpass.getpass(\"OpenAI API Key:\")"
   ]
  },
  {
   "cell_type": "code",
   "execution_count": 5,
   "id": "88cf9d1f",
   "metadata": {},
   "outputs": [],
   "source": [
    "os.environ[\"OPENAI_API_KEY\"] = openai.api_key"
   ]
  },
  {
   "cell_type": "markdown",
   "id": "7ec0de42",
   "metadata": {},
   "source": [
    "Gloabal model settings for vectorization and chat model. You can change to others, but chances are you will need to adjust the code a bit.\n",
    "\n",
    "Also keep in mind that you will be charged for using the OpenAI API."
   ]
  },
  {
   "cell_type": "code",
   "execution_count": 6,
   "id": "fe7da0b9",
   "metadata": {},
   "outputs": [],
   "source": [
    "EMBEDDING_MODEL = \"text-embedding-ada-002\"\n",
    "LLM_ENGINE = \"gpt-3.5-turbo\""
   ]
  },
  {
   "cell_type": "markdown",
   "id": "170e13fd",
   "metadata": {},
   "source": [
    "Data was copied from https://www.ikea.com/pl/pl/customer-service/faq/\n",
    "\n",
    "Take into account that they may change there and are not updated here.\n",
    "\n",
    "**Also, this is done without the knowledge of the store owner and is for educational purposes only.**"
   ]
  },
  {
   "cell_type": "code",
   "execution_count": 7,
   "id": "dc6e8cea",
   "metadata": {},
   "outputs": [],
   "source": [
    "# C stands for customer and A stands for store agent.\n",
    "FAQ_DATA = {\n",
    "    \"IKEA\": [ # https://www.ikea.com/pl/pl/customer-service/faq/\n",
    "        [\n",
    "            \"C: Czemu ten produkt jest tak długo niedostępny?\",\n",
    "            \"\"\"A:Problemy z dostępnością niektórych produktów są bezpośrednim następstwem pandemii.\n",
    "            Skutki czasowego zachwiania naszego standardowego łańcucha dostaw (produkcji oraz logistyki), mogą być odczuwalne przez dość długi czas, nawet kilka miesięcy. Cały czas mocno pracujemy nad tym, aby przywrócić oczekiwaną dostępność wszystkich produktów, jednak nie zawsze jesteśmy w stanie określić, kiedy dany artykuł powróci do sprzedaży. Przepraszamy i prosimy o cierpliwość.\n",
    "            Zachęcamy też do bieżącego sprawdzania stanów magazynowych na stronie IKEA.pl, korzystania z opcji ustawienia powiadomienia o dostępności, a także zapoznania się z innymi interesującymi produktami z naszej oferty.\"\"\",\n",
    "        ],\n",
    "        [\n",
    "            \"C: Dlaczego są takie braki?\",\n",
    "            \"\"\"A: Ze względu na wpływ pandemii COVID-19 obecnie doświadczamy opóźnień w dostawach, co może mieć wpływ na dostępność produktów w sklepach i w Internecie.\n",
    "            Każdorazowo, przed wizytą w sklepie, warto sprawdzić dostępność produktów, które chcemy zakupić. Aby to sprawdzić, podczas przeglądania strony produktu, należy kliknąć w link podany w sekcji \"stan magazynowy\". Jeśli chcesz otrzymywać aktualizacje, możesz wybrać opcję powiadamiania o dostawie i dostępności. Aktualizacje stanów magazynowych są dokonywane co 24 godziny i mogą ulec zmianie z uwagi na wysokie zainteresowanie tymi produktami. Ze względu na aktualizacje systemu i wysoki popyt, istnieje szansa, że pozycja z niskim stanem magazynowym może nie być dostępna w sprzedaży.\"\"\",\n",
    "        ],\n",
    "        [\n",
    "            \"C: Jakie kroki podejmuje IKEA, aby rozwiązać problem z dostępnością produktów?\",\n",
    "            \"\"\"A: Aby zapewnić swoim Klientom stałą dostępność produktów, zdecydowaliśmy się globalnie na podjęcie nadzwyczajnych kroków, w tym na zakup własnych kontenerów i czarter dodatkowych statków. Nieustannie planujemy kolejne działania, mające na celu załagodzenie obecnej sytuacji, wywołanej ograniczeniami w transporcie oceanicznym oraz wzrostem liczby zamówień. Współpracujemy z naszymi dostawcami i jesteśmy z nimi w stałym kontakcie, aby opracować najlepsze możliwe rozwiązania, zarówno na chwilę obecną, jak i na przyszłość.\"\"\",\n",
    "        ],\n",
    "        [\n",
    "            \"C: Kiedy sytuacja wróci do normy?\",\n",
    "            \"\"\"A: Jest to wyzwanie dla całej branży i trudno nam je przewidzieć. W IKEA ciężko pracujemy, by jak najszybciej udostępnić Klientom, jak najwięcej naszych produktów.\n",
    "            Kiedy wybrane przeze mnie produkty będą ponownie dostępne?\n",
    "            Pracujemy w ramach naszego łańcucha dostaw i robimy wszystko, co w naszej mocy, aby jak najszybciej udostępnić wam jak najwięcej produktów IKEA. Zachęcamy do korzystania z możliwości powiadomienia o przywrócenia dostaw i dostępności produktów za pośrednictwem IKEA.pl.\"\"\",\n",
    "        ],\n",
    "        [\n",
    "            \"C: W jaki sposób mogę się dowiedzieć o dostępności zamawianych przeze mnie produktów?\",\n",
    "            \"\"\"A: Ze względu na wpływ pandemii COVID-19 obecnie doświadczamy opóźnień w całym łańcuchu dostaw, co ma wpływ na dostępność produktów w sklepach i w Internecie. Klientów zachęcamy każdorazowo do sprawdzenia dostępności produktu na IKEA.pl przed wizytą w sklepie lub zakupem online. W przypadku niedostępności produktu proponujemy do skorzystania z opcji powiadomienia smsem lub mailem o jego dostawie.\n",
    "            Ze względu na aktualizacje systemu co 24 godziny i wysoki popyt, istnieje szansa, że pozycja z niskim stanem magazynowym może nie być dostępna w sprzedaży lub po dostarczeniu do sklepu szybko się wyprzedać. Dzwoniąc na Infolinię konsultanci korzystają z tego samego źródła wiedzy dostępnego na IKEA.pl.\"\"\",\n",
    "        ],\n",
    "        [\n",
    "            \"C: Jak sprawdzić dostępność produktu w sklepie stacjonarnym?\",\n",
    "            \"\"\"A: Najszybciej sprawdzisz ją na stronie interesującego cię produktu.\n",
    "            Dostępność produktu możesz sprawdzić na naszej stronie internetowej, na stronie produktu, który wpadł ci w oko.\n",
    "            Zakładkę z dostępnością znajdziesz zaraz obok lub pod zdjęciami produktu (w zależności od tego, czy korzystasz z komputera czy urządzenia mobilnego) - poznasz ją po prostej ikonce sklepu. Obok zobaczysz dostępność artykułu w domyślnie wybranym sklepie - jeśli interesuje cię inna lokalizacja, kliknij w jego nazwę i skorzystaj zopcji \"Sprawdź inne sklepy IKEA\".\n",
    "            Jeśli upatrzony przez ciebie produkt jest obecnie niedostępny w wybranym sklepie, zobaczysz też informację o przewidywanej dacie ponownej dostępności.Skorzystaj z opcji \"Powiadom mnie, gdy produkt będzie dostępny\", a my prześlemy ci informację mailem lub SMS-em, gdy produkt znów będzie w sklepie.\n",
    "            Instrukcję, jak sprawdzić dostępność produktu zobaczysz na stronie internetowej.\"\"\",\n",
    "        ],\n",
    "        [\n",
    "            \"C: Jak sprawdzić dostępność produktu w sprzedaży online?\",\n",
    "            \"\"\"A: Produkty, które możesz kupić online z dostawą oznaczone są informacją \"Produkt dostępny do zamówienia\". Ichdostępność sprawdzisz w koszyku.\n",
    "            Jeśli na stronie produktu widoczny jest przycisk \"Dodaj do koszyka\", a poniżej informacja \"Produkt dostępny do zamówienia\", oznacza to, że produkt znajduje się w naszej ofercie online z dostawą. Dostępność produktu w naszym magazynie centralnym zostanie zweryfikowana w dalszych krokach, gdy dodasz go do koszyka oraz podasz swój kod pocztowy.\n",
    "            W przypadku, gdy produkt okaże się niedostępny w magazynie centralnym, możesz sprawdzić jego dostępność w najbliższym stacjonarnym sklepie IKEA i zamówić go z odbiorem własnym w sklepie lub Punkcie Odbioru obsługiwanym przez ten sklep. Na stronie produktu, sprawdź jego dostępność w sklepie, w którym chcesz odebrać zamówienie lub w sklepie obsługującym dany Punktu Odbioru - ich listę znajdziesz tutaj: Punkty Odbioru Zamówień.\n",
    "            Jeśli przy produkcie znajduje się wyłącznie przycisk \"Dodaj do listy zakupów\"  oraz informacja \"Produkt niedostępny do zamówienia\", oznacza to, że jest to produkt, który możesz zakupić wyłącznie w sklepie stacjonarnym. Dotyczy to np. żywych roślin czy tkanin na metry.\n",
    "            Instrukcję, jak sprawdzić dostępność produktu zobaczysz na stronie internetowej.\"\"\",\n",
    "        ],\n",
    "        [\n",
    "            \"C: Ile kosztuje dostawa do domu?\",\n",
    "            \"\"\"A: Koszt dostawy do domu zależy od wielkości Twoich zakupów i zaczyna się już od 15 zł.\n",
    "            Zawsze staramy się zaproponować ci najkorzystniejszy koszt dostawy. Jeśli to tylko możliwe, zrealizujemy dostawę kurierem w cenie od 15 zł. Koszt dostawy do domu firmą transportową (dla większych zamówień, np. z meblami) zaczyna się od 69 zł i dostępna jest wtrzech opcjach:\n",
    "            Dostawa bez wniesienia w cenie od 69 zł (zależy od łącznej wagi produktów, która nie może przekroczyć 200 kg). Zamówienie zostanie dostarczone pod wskazany adres (do pierwszej przeszkody architektonicznej) - odbierzesz je przy samochodzie dostawczym. Termin dostawy wybierzesz podczas składania zamówienia. Obowiązuje całodziennyprzedział czasowy: 8-20.\n",
    "            Dostawa z wniesieniem w cenie od 109 zł (zależy od łącznej wagi produktów). Zamówienie zostanie wniesione do wskazanego pomieszczenia w Twoim domu. Termin dostawy wybierzesz podczas składania zamówienia. Obowiązuje całodzienny przedział czasowy: 8-20.\n",
    "            Dostawa z wniesieniem o wybranej porze dnia w cenie od 129 zł (zależy od łącznej wagi produktów). Zamówienie zostanie wniesione do wskazanego pomieszczenia w Twoim domu. Termin dostawy wybierzesz podczas składania zamówienia wraz z jednym z czterech przedziałów czasowych: 8-11, 11-14, 14-17, 17-20. Opcja dostępna jest wmiastach, w których znajdują się sklepy IKEA.\n",
    "            Kalkulator ceny poszczególnych usług w zależności od wagi oraz listę lokaliazacji, w których są dostępne znajdziesz tutaj.\n",
    "            Koszt dostawy może zmieniać się wraz z dodawaniem kolejnych produktów do zamówienia. Liczba lub waga produktów możeczasami także wymagać podzielenia zamówienia na kilka przesyłek.\"\"\",\n",
    "        ],\n",
    "        [\n",
    "            \"C: Jakie opcje dostawy są dostępne w IKEA?\",\n",
    "            \"\"\"A: Wybierz najwygodniejszą opcję dla siebie - dostawę do domu lub odbiór własny.\n",
    "            Obecnie w IKEA posiadamy kilka opcji dostawy, więc możesz wybrać tę z nich, która najbardziej ci odpowiada.\n",
    "            Dostawa kurierem do domu to usługa transportu dla niedużych produktów. Jej koszt to 15 zł za jedną paczkę (do 30 kg). Dostawa kurierem jest dostępna tylko dla niektórych produktów. Informację o tym, czy dany produkt jest nią objęty, znajdziesz w koszyku podczas tworzenia zamówienia online. Przesyłki realizuje firma GLS i dostarcza je do Twoich drzwi. Możesz również wybrać jeden z 1700 punktów odbioru GLS. Średni czas realizacji to 2-4 dni.\n",
    "            Dostawa firmą transportową do domu to usługa dostawy mebli i akcesoriów. Jej koszt zależy od łącznej wagi produktów i wybranej opcji:\n",
    "            Dostawa bez wniesienia w cenie od 69 zł (zależy od łącznej wagi produktów, która nie może przekroczyć 200 kg). Zamówienie zostanie dostarczone pod wskazany adres (do pierwszej przeszkody architektonicznej) - odbierzesz je przy samochodzie dostawczym. Termin dostawy wybierzesz podczas składania zamówienia. Obowiązuje całodziennyprzedział czasowy: 8-20.\n",
    "            Dostawa z wniesieniem w cenie od 89 zł (zależy od łącznej wagi produktów). Zamówienie zostanie wniesione do wskazanego pomieszczenia w twoim domu. Termin dostawy wybierzesz podczas składania zamówienia. Obowiązuje całodzienny przedział czasowy: 8-20.\n",
    "            Dostawa z wniesieniem o wybranej porze dnia w cenie od 129 zł (zależy od łącznej wagi produktów). Zamówienie zostanie wniesione do wskazanego pomieszczenia w twoim domu. Termin dostawy wybierzesz podczas składania zamówienia wraz z jednym z czterech przedziałów czasowych: 8-11, 11-14, 14-17, 17-20. Opcja dostępna jest wmiastach, w których znajdują się sklepy IKEA.\n",
    "            Usługa Zamów i odbierz umożliwia odbiór przygotowanego zamówienia w Punkcie Odbioru IKEA zlokalizowanym w/przy sklepie IKEA lub w wielu innych miejscowościach. Preferowany termin odbioru wybierzesz podczas składania zamówienia. Koszt usługi to 29 zł. Aby z niej skorzystać, sprawdźdostępność produktów w sklepie, w którym chcesz odebrać zamówienie lub w sklepie przypisanym do danego Punktu Odbioru. Zobacz listę dostępnych Punktów Odbioru.\n",
    "            Możesz skorzystać także z odbioru w Paczkomatach InPost. Jest to forma dostawy dla mniejszcych paczek do 25 kg, a jej koszt to 12 zł. Informację o tym, czy dany produkt jest objęty dostawą do Paczkomatu znajdziesz w koszyku.\n",
    "            Obecnie, wprowadzamy również nową opcję dostawy: do Skrytek IKEA znajdujących się przy naszych sklepach (za 29 zł). Jeśli jest ona dostępna dla twojej lokalizacji, wyświetli się w koszyku po wpisaniu kodu pocztowego.\n",
    "            Z uwagi na niedostępność produktów lub wielkość zamówienia, nie wszystkie opcje dostawy mogą wyświetlać się w twoim koszyku.\n",
    "            Jeśli zamawiasz wiele produktów, twoje zamówienie może zostać podzielone na kilka przesyłek, a nawet na kilka form dostawy.\"\"\",\n",
    "        ],\n",
    "        [\n",
    "            \"C: Jak sprawdziś satus mojego zamówienia\",\n",
    "            \"\"\"A: W tym celu udaj się do zakładki „Śledź zamówienie”. Sprawdzisz tam aktualny stan zamówienia, planowaną datę dostawy orazogólne informacje o zamówieniu.\n",
    "            Logując się na swoje konto, uzyskasz możliwość zarządzania zamówieniem.\n",
    "            Możesz tego dokonać klikając w ikonę samochodu, znajdującą się w prawym górnym rogu strony.\"\"\",\n",
    "        ],\n",
    "        [\n",
    "            \"C: Dostawa nie przyjechała - co robić?\",\n",
    "            \"\"\"A: Możliwych jest kilka scenariuszy - sprawdź, która sytuacja dotyczy ciebie i jak możemy pomóc.\n",
    "            W pierwszej kolejności kliknij tutaj, aby sprawdzić aktualny status dostawy twojego zamówienia i potwierdzić, że jest już ono na etapie dostawy.\n",
    "            Ważny jest także rodzaj wybranej przez ciebie dostawy:\n",
    "            dostawa do domu - robimy wszystko, aby twoje zamówienie dostarczyć w terminie, lecz niestety zdarzają się sytuacje(np. korki, wypadki na drodze), przez które kierowca może nie zmieścić się z dojazdem w planowanym oknie czasowym.Poprosimy cię o jeszcze trochę cierpliwości. Jeśli minęło już kilka godzin, skontaktuj się z nami telefonicznie lub na czacie.\n",
    "            dostawa kurierem - pamiętaj, że dla przesyłek kurierskich, data realizacji dostawy wybrana podczas składania zamówienia jest orientacyjna - o ostatecznym terminie doręczenia firma GLS poinformuje cię w osobnej wiadomości, gdy odbierze paczkę dla ciebie. Jeśli paczka nie dotarła, mimo potwierdzenia od firmy kurierskiej, skontaktuj się bezpośrednio z GLS - firma zweryfikuje, gdzie znajduje się przesyłka.\n",
    "            Jeśli twoje zamówienie miało do ciebie dotrzeć nie dziś, a już w poprzednich dniach, zadzwoń na numer 22 275 00 00 lub porozmawiaj z naszym pracownikiem na czacie - ustalimy, co się wydarzyło i co możemy zrobić w tej sytuacji.\"\"\",\n",
    "        ],\n",
    "        [\n",
    "            \"C: Jak mogę otrzymać fakturę za zakupy w IKEA?\",\n",
    "            \"\"\"A: To zależy od sposobu, w jaki robisz swoje zakupy, ale jedno jest pewne - to nic trudnego.\n",
    "            Robiąc zakupy w sklepie stacjonarnym, fakturę do paragonu z kasy możesz wystawić samodzielnie w kiosku Szybka faktura przy wyjściu ze sklepu (masz na to czas do 90 dni od zakupu, licząc od pierwszego dnia kolejnego miesiąca po zakupie) -potrzebny ci będzie oryginał paragonu.\n",
    "            Z oryginałem paragonu możesz też udać się do Biura Obsługi Klienta lub wysłać go pocztą na adres sklepu z dopiskiem „Biuro Obsługi Klienta”. Fakturę zamówioną drogą pocztową odeślemy na wskazany adres nadawcy.\n",
    "            Jeśli faktura wystawiana jest na firmę, paragon musi zawierać numer NIP nabywcy (podany pracownikowi na kasie lub wprowadzony samodzielnie w kasie samoobsługowej). Pamiętaj także, że paragon z NIP o wartości do 450 zł traktowany jest jako faktura uproszczona i nie są wystawione do niego żadne dodatkowe dokumenty.\n",
    "            Faktura imienna może zostać wystawiona na podstawie paragonu bez numeru NIP.\n",
    "            Dla zamówień online, faktura (imienna lub na firmę) jest domyślnym dowodem zakupu, który otrzymasz mailowo po opłaceniu zakupów. Dane do faktury podaj podczas składania zamówienia.\n",
    "            Jeśli chcesz otrzymać fakturę na firmę, wybierz w koszyku opcję \"Firma\" zamiast \"Osoba fizyczna\" oraz podaj dane firmy, obowiązkowo z numerem NIP. Jeśli nie widzisz opcji wyboru firmy podczas podawania danych (a tym samym pola umożliwiającego podanie numeru NIP), wyloguj się ze swojego konta IKEA.\"\"\",\n",
    "        ],\n",
    "        [\n",
    "            \"C: Jak poprawić błędne dane na fakturze?\",\n",
    "            \"\"\"A: Każdemu może zdarzyć się pomyłka. Wystarczy, że prześlesz do nas notę korygującą.\n",
    "            Jeżeli w podanych wcześniej danych zauważysz literówkę lub chcesz poprawić nazwę/adres swojej firmy, prześlij do nas wypełnioną i podpisaną notę korygującą na adres: info.ikea.pl@ikea.com. Podpiszemy ją i odeślemy do ciebie, tak aby można ją było dołączyć do pierwotnego dokumentu. To wystarczy.\n",
    "            Opis i przykładowe, bezpłatne wzory noty korygującej bez problemu znajdziesz w Internecie.\n",
    "            Pamiętaj, że nota korygująca nie daje możliwości całkowitej zmiany nazwy nabywcy, na którego została wystawiona (np. zosoby fizycznej na firmę lub z jednej firmy na inną).\n",
    "            Otrzymaną od IKEA notę korygującą należy dołączyć do oryginału faktury, na którym widnieją błędy. Taki komplet dokumentów jest wystarczający w celu uznania korekty: nowa faktura nie zostanie wystawiona.\n",
    "            Natomiast w przypadku, gdy chcesz zmienić dane z firmowych na prywatne (osoby fizycznej nie prowadzącej działalności gospodarczej), dołącz do noty także oświadczenie o nierozliczeniu przez firmę pierwotnie wystawionej faktury.\"\"\",\n",
    "        ],\n",
    "        [\n",
    "            \"C: Czy mogę otrzymać fakturę VAT na wybrane pozycje z paragonu lub zamówienia?\",\n",
    "            \"\"\"A: Masz taką możliwość, jeśli robisz zakupy w sklepie, a twój paragon nie jest fakturą uproszczoną.\n",
    "            Jeśli twój paragon zawiera numer NIP, a równocześnie jego wartość przekracza 450 zł, możesz skorzystać z kiosku Szybka faktura przy wyjściu ze sklepu. Wydrukujesz w nim fakturę FV oraz będziesz mieć opcję wyboru, które z pozycji na paragonie mają znaleźć się na fakturze.\n",
    "            Dla pozycji nieuwzględnionych na fakturze, otrzymasz paragon zastępczy (z numerem NIP wskazanym na oryginalnym paragonie). Paragon zastępczynie jest dokumentem fiskalnym i nie może być użyty do wystawienia kolejnej faktury.\n",
    "            Nie ma możliwości usunięcia wybranych pozycji z faktury uproszocznej, czyli paragonu z numerem NIP o wartości do 450 zł. Pamiętaj jednak,że do swojej dokumentacji firmowej możesz dołączyć taki dokument, rozliczając z niego jedynie wybrane pozycje - wystarczy odpowiednia adnotacja na dokumencie.\n",
    "            W przypadku zamówień internetowych i telefonicznych, do każdego zamówienia wystawiana jest faktura na wszystkie jego pozycje.\"\"\",\n",
    "        ],\n",
    "        [\n",
    "            \"C: Czy mogę otrzymać duplikat faktury?\",\n",
    "            \"\"\"A: Tak, aby otrzymać taki duplikat, napisz do nas lub udaj się się do sklepu IKEA.\n",
    "            Aby otrzymać duplikat swojej faktury, skontaktuj się z nami w wybrany przez siebie sposób:\n",
    "            udaj się do Działu Obsługi Klienta w sklepie IKEA,\n",
    "            napisz do nas na czacie na IKEA.pl/kontakt (w niektórych przypadkach pracownik poprosi cię o napisanie maila),\n",
    "            wyślij do nas wiadomość na adres: info.ikea.pl@ikea.com.W każdym z przypadków podaj nam istotne dane: datę i kwotę zakupu lub numer zamówienia online, numer NIP nabywcy (lub imię i nazwisko, jeśli chodzi o fakturę imienną) oraz, w miarę możliwości, numer faktury.\n",
    "            Powyższe zasady dotyczą również faktury uproszczonej, czyli paragonu z numerem NIP o wartości do 450 zł. Duplikat będzie zawierał te same dane, co oryginalny dokument, choć może być wystawiony w innym formacie (A4). Aby uzyskać duplikat faktury uproszczonej, poproś klienta o datę zakupu, sklep, numer paragonu, numer kasy.\"\"\",\n",
    "        ],\n",
    "        [\n",
    "            \"C: Jak mogę zwrócić zakupiony produkt?\",\n",
    "            \"\"\"A: Tak, masz na to 365 dni. Dowiedz się, jak to zrobić.\n",
    "            Jeśli zmienisz zdanie lub Twój zakup okaże się nietrafiony, nie martw się. Produkty kupione w IKEA w Polsce, zarówno w sklepach stacjonarnych, jak i zdalnie, możesz zwrócić w ciągu 365 dni od daty ich wydania/dostawy.\n",
    "            Aby dokonać zwrotu, odwiedź najbliższy sklep IKEA. Oprócz produktu, zabierz ze sobą dowód zakupu.\n",
    "            Pamiętaj też, że jest kilka wyjątków. Zwrotowi w IKEA nie podlegają:\n",
    "            Karty upominkowe i refundacyjne IKEA\n",
    "            rozpakowane materace (możesz taki materac wymienić w ciągu 90 dni od zakupu zgodnie z zasadami Pokochaj albo zmień)\n",
    "            produkty na indywidualne zamówienie (np. blaty, panele ścienne)\n",
    "            rośliny\n",
    "            tkaniny cięte oraz produkty zakupione z usługą szycia/haftowania\n",
    "            artykuły spożywcze\n",
    "            produkty zakupione w Dziale Sprzedaży Okazyjnej\n",
    "            produkty zmodyfikowane przez klienta\n",
    "            produkty zakupione w ramach umowy leasingowej\n",
    "            wartość rabatu udzielonego w ramach promocji\n",
    "            Wszystkie zasady zwrotów w IKEA znajdziesz w Regulaminie zwrotów IKEA, dostępnym na stronie regulaminy.\"\"\",\n",
    "        ],\n",
    "        [\n",
    "            \"C: Czy mogę dokonać zwrotu produktu bez paragonu lub faktury?\",\n",
    "            \"\"\"A: Aby dokonać zwrotu, potrzebować będziesz dowodu zakupu.\n",
    "            W IKEA możesz dokonać zwrotu zakupionych produktów w ciągu 365 dni od ich wydania/dostawy, posługując się dowodem zakupu w postaci:\n",
    "            paragonu,\n",
    "            faktury VAT (w formie elektronicznej lub papierowej),\n",
    "            karty IKEA Family (wydanej w Polsce), jeśli zakup został na niej zarejestrowany.\n",
    "            Jeśli nie posiadasz żadnego z wymienionych dowodów zakupu, nie będziemy mogli przyjąć twojego zwrotu.\n",
    "            Oczywiście, zabierz ze sobą także produkt, który chcesz zwrócić - może on być rozpakowany, a nawet zmontowany, lecz musi być nieużywany. Stan produktu zostanie zweryfikowany przez pracownika sklepu.\n",
    "            Szczegółowe informacje znajdziesz w obowiązującym Regulaminie zwrotów IKEA, dostępnym na stronie regulaminy.\"\"\",\n",
    "        ],\n",
    "        [\n",
    "            \"C: Dlaczego reklamację mogę złożyć tylko osobiście lub poprzez kontakt z chatbotem/pracownikiem Domolinii, a nie np. za sprawą e-formularza?\",\n",
    "            \"\"\"A: Formularz został wyłączony by przyśpieszyć i poprawić jakość procesu składania reklamacji. Zachęcamy do korzystania z Infolinii oraz chatbota znajdującego się na IKEA.pl – w ten sposób, dzięki bezpośredniemu kontaktowi z naszym Działem Wsparcia Klienta, możemy szybciej i skuteczniej zebrać wszelkie informacje dotyczące pojawiających się pytań i spróbować pomóc.\"\"\",\n",
    "        ],\n",
    "        [\n",
    "            \"C: Dlaczego Infolinia jest ciągle zajęta? Oczekiwanie na połączenie jest wydłużone (np. ponad 25 osób w kolejce).\",\n",
    "            \"\"\"A: Z uwago na zwiększoną liczbę zamówień aktualnie doświadczamy większego zapotrzebowania na kontakt z pracownikiem i dokładamy wszelkich starań, aby wspierać klientów IKEA w możliwie jak najlepszy sposób.\n",
    "            Bezpośredni kontakt poprzez infolinię lub chatbota pozwala nam szybciej zebrać całość informacji potrzebnych do rozpatrzenia każdej zgłaszanej do nas sprawy.\"\"\",\n",
    "        ],\n",
    "        [\n",
    "            \"C: Jak mogę złożyć reklamację?\",\n",
    "            \"\"\"A: Zobacz możliwe sposoby złożenia reklamacji i wybierz najwygodniejszy dla siebie.\n",
    "            Chcemy, by produkty oraz usługi IKEA zawsze spełniały oczekiwania naszych klientów i zmieniały ich codzienne życie na lepsze. Dlatego, jeśli coś poszło nie tak, zachęcamy cię do złożenia reklamacji. Postaramy się rozwiązać twój problem tak szybko, jak to możliwe.\n",
    "            Reklamację możesz zgłosić najwygodniejszą dla siebie drogą:\n",
    "            online, korzystając z naszego czatu - znajdziesz go w zakłądce kontakt,\n",
    "            kontaktując się z naszą infolinią Domolinia IKEA pod numerem telefonu 22 275 00 00,\n",
    "            odwiedzając Dział Obsługi Klienta w dowolnym sklepie stacjonarnym IKEA.\n",
    "            Zachęcamy cię do skorzystania zwłaszcza z pierwszej opcji - formularza online, który został przygotowany tak, aby w intuicyjny sposób poprowadzić cię przez proces i by w twoim zgłoszeniu niczego nie brakowało.\"\"\",\n",
    "        ],\n",
    "        [\n",
    "            \"C: Nikt się ze mną nie skontaktował w sprawie reklamacji, co teraz?\",\n",
    "            \"\"\"A: Jeśli nie minęło jeszcze 14 dni od złożenia reklamacji, poczekaj na kontakt z naszej strony.\n",
    "            Jeśli czekasz na wieści dotyczące swojej reklamacji, prosimy cię o trochę cierpliwości - informację o decyzji otrzymasz tak szybko, jak to możliwe, a maksymalnie w ciągu 14 dni kalendarzowych od momentu zarejestrowania zgłoszenia.\n",
    "            Jeśli minęło już 14 dni, a taki kontakt wciąż nie nastąpił:\n",
    "            upewnij się, czy wiadomość od nas nie trafiła do folderu SPAM w Twojej skrzynce mailowej,\n",
    "            skontaktuj się z nami na czacie, który znajdziesz na stronie IKEA.pl/kontakt - wyjaśnimy, co się stało.\"\"\",\n",
    "        ],\n",
    "        [\n",
    "            \"C: Jak mogę sprawdzić status swojej reklamacji?\",\n",
    "            \"\"\"A: Najszybciej zrobisz to korzystając z naszego czatu.\n",
    "            Gdy tylko decyzja w twojej reklamacji zostanie podjęta, na pewno się z tobą skontaktujemy.\n",
    "            Jeśli chcesz jednak upewnić się, na jakim etapie jest twoja sprawa, skorzystaj z czatu z nami na stronie IKEA.pl/kontakt. Nasz czatbot sprawdzi status twojej reklamacji wyszukując ją po numerze.\n",
    "            W razie potrzeby, na czacie porozmawiasz także z pracownikiem IKEA.\"\"\",\n",
    "        ],\n",
    "        [\n",
    "            \"C: Czego potrzebuję, aby zgłosić reklamację?\",\n",
    "            \"\"\"A: Przede wszystkim, będzie to dowód zakupu.\n",
    "            Elementy, które są nam niezbędne do rozpatrzenia reklamacji to:\n",
    "            dowód zakupu (np. paragon, faktura, numer karty IKEA Family z zarejestrowanym zakupem, czy potwierdzenie płatności)\n",
    "            Twoje dane osobowe: imię i nazwisko, adres, numer telefonu i adres mailowy do kontaktu oraz adres, pod którym znajduje się reklamowany produkt,\n",
    "            informacja, z jakiej podstawy prawnej korzystasz: rękojmi czy gwarancji.\n",
    "            dokładny opis wady / usterki produktu lub opis nieprawidłowości w wykonaniu usługi.\n",
    "            Brak któregokolwiek z powyższych sprawi, że będziemy zmuszeni zamknąć Twoje zgłoszenie bez rozpatrzenia, prosząc Cię o uzupełnienie informacji.\n",
    "            Do zgłoszenia reklamacyjnego warto dołączyć również:\n",
    "            zdjęcia lub inne materiały multimedialne obrazujące zaistniałą wadę / usterkę lub nieprawidłowości,\n",
    "            protokół szkody wypełniony dla firmy kurierskiej / transportowej, jeśli uszkodzenie produktu powstało w transporcie i zostało odnotowane w ten sposób,\n",
    "            protokół z wykonanej usługi dla firmy transportowej, montażowej lub innej, która realizowała reklamowaną usługę,\n",
    "            w przypadku sprzętów AGD, których instalacja wymaga specjalistycznych uprawnień i które nie były instalowane w ramach usług IKEA: potwierdzenie uprawnień osoby instalującej.\n",
    "            Takie dodatkowe informacje zazwyczaj pozwalają przyspieszyć rozpatrzenie reklamacji.\"\"\",\n",
    "        ],\n",
    "        [\n",
    "            \"C: Co zrobić, jeśli nie powiodła się moja płatność za zamówienie?\",\n",
    "            \"\"\"A: Jeśli twoja płatność za zamówienie internetowe lub telefoniczne się nie udała – z powodu błędu lub przyczyn technicznych – zachęcamy cię do ponownego złożenia zamówienia.\n",
    "            Zdarza się, że płatność za zamówienie nie powiedzie się. W takiej sytuacji, spróbuj złożyć zamówienie raz jeszcze. Wcześniejsze,nieopłacone zamówienie zostanie automatycznie anulowane w ciągu doby.\n",
    "            Jeśli nie masz pewności, czy twoja płatność się powiodła, sprawdź swoją skrzynkę mailową. Potwierdzenie złożenia zamówienia powinno zostać przesłane na twojego maila w ciągu 2 h od pomyślnie przeprowadzonej płatności. Upewnij się, że wiadomość od nas nie trafiła do folderu SPAM. Sprawdź również, czy środki zostały pobrane z twojego konta.\"\"\",\n",
    "        ],\n",
    "        [\n",
    "            \"C: Czy mogę zapłacić za zamówienie przy odbiorze?\",\n",
    "            \"\"\"A: Płatność pobierana jest zawsze w momencie składania zamówienia – nie oferujemy płatności za pobraniem.\n",
    "            W IKEA za zakupy, zarówno zdalne, jak i stacjonarne, należy zapłacić w momencie ich dokonywania (wyjątkiem jest płatność ratalna). Nie oferujemy możliwości opłacenia zamówienia przy odbiorze (za pobraniem) ani uzyskania faktury z odroczonym terminem płatności.\n",
    "            Pamiętaj, że zamówienia internetowe i telefoniczne, które nie zostaną opłacone w ciągu 48 h, zostają anulowane.\n",
    "            Akceptujemy następujące formy płatności:\n",
    "            gotówka (w sklepach stacjonarnych),\n",
    "            bony upominkowe SODEXO PASS PREMIOWY, PODARUNKOWY oraz GOLD (w sklepach stacjonarnych),\n",
    "            karty płatnicze: VISA, MAESTRO, MASTER CARD, DINERS CLUB,\n",
    "            BLIK,\n",
    "            Karty upominkowe IKEA,\n",
    "            raty\"\"\",\n",
    "        ],\n",
    "        [\n",
    "            \"C: Czy mogę dokonać zakupu na raty?\",\n",
    "            \"\"\"A: Oczywiście! Ikano Bank oferuje zakup na raty dla naszych klientów IKEA.\n",
    "            Nie musisz płacić za wszystko od razu – zapłać za swoje zakupy w wygodnych ratach dostosowanych do Twoich możliwości. Raty są dostępne na wszystkie produkty i usługi w IKEA o wartości od 300 zł do nawet 50 000 zł w kredycie dostępnym w sklepach stacjonarnych. Możesz również skorzystać z płatności ratami on-line na zakupy z dostawą do domu lub Punktu Odbioru. Dla rat składanych przez Internet maksymalna kwota kredytu wynosi 28 000 zł.\n",
    "            Kalkulator rat znajdziesz na naszej stronie internetowej lub bezpośrednio na stronie naszego partnera – IKANO Banku. Tam możesz również złożyć wniosek o raty, który przyśpieszy Twój zakup w sklepie.\n",
    "            Masz więcej pytań odnośnie oprocentowania i innych rzeczy związanych z kredytem? Zajrzyj na stronę IKANO Banku, aby rozwiać wszystkie swoje wątpliwości.\"\"\",\n",
    "        ],\n",
    "        [\n",
    "            \"C: Jak opłacić zamówienie internetowe ratami online?\",\n",
    "            \"\"\"A: Teraz to tylko kilka kroków - wszystkie wykonasz bez wychodzenia z domu.\n",
    "            Nie musisz płacić za wszystko od razu - możesz skorzystać w wygodnych rat dostosowanych do Twoich możliwości. Teraz także online! Zobacz jakie to proste:\n",
    "            Dodaj wybrane produkty do koszyka. Przejdź do płatności \"Przelewy24\", a następnie wybierz opcję \"IKANO Bank\".\n",
    "            Po przekierowaniu na stronę IKANO wypełnij wniosek kredytowy online i potwierdź swoją tożsamość. Po akceptacji wniosku zatwierdź zawarcie umowy z IKANO Bank.\n",
    "            Po otrzymaniu potwierdzenia e-mail oraz umowy, poczekaj już tylko na zamówienie z IKEA.\n",
    "            Ratę swojego kredytu możesz obliczyć w dostępnym na stronie kalkulatorze.\"\"\",\n",
    "        ],\n",
    "        [\n",
    "            \"C: Jakie dokumenty są potrzebne do wzięcia kredytu?\",\n",
    "            \"\"\"A: Wszystko zależy od tego, czy zakupu na raty dokonujesz w sklepie stacjonarnym, czy przez Internet.\n",
    "            W sklepie stacjonarnym IKEA, przy kredycie do 28 000 zł wystarczy nam jedynie Twój dowód osobisty. Przy większej kwocie będziemy potrzebować zaświadczenia o zatrudnieniu i wynagrodzeniu, w przypadku zakupu przez Internet.\n",
    "            Kupując przez Internet, maksymalny kredyt, jaki możesz otrzymać to 28 000 zł. Do zakupu do takiej kwoty nie wymagamy udokumentowania dochodu.\n",
    "            Więcej na temat rat w IKEA znajdziesz na naszej stronie internetowej oraz na stronie Ikano Banku.\"\"\",\n",
    "        ],\n",
    "        [\n",
    "            \"C: Jak skorzystać z rat w sklepie?\",\n",
    "            \"\"\"A: Złóż wniosek online i podpisz umowę kredytową w Punkcie IKANO w sklepie. Możesz też załatwić wszystko na miejscu.\n",
    "            Nie musisz płacić za wszystko od razu - możesz skorzystać w wygodnych rat dostosowanych do Twoich możliwości. Zobacz, jakie to proste:\n",
    "            Określ kwotę, jaka kwota będzie Ci potrzebna na Twoje wymarzone zakupy. Ratę swojego kredytu możesz obliczyć w dostępnym na stronie kalkulatorze.\n",
    "            Złóż wniosek kredytowy korzystając z formularza online Banku IKANO - możesz to zrobić w swoim domu lub na oznaczonym komputerze w sklepie. Decyzję kredytową otrzymasz SMS-em i e-mailem. Jeżeli Twój wniosek zostanie zaakceptowany, podpisz umowę w Punkcie Obsługi Kredytowej IKANO Banku w sklepie, najczęściej jest on umiejscowiony w sklepie.\n",
    "            Udaj się do kasy z zakupami i otrzymanymi dokumentami kredytowymi.\"\"\",\n",
    "        ],\n",
    "        [\n",
    "            \"C: Jak mogę otrzymać fakturę za zakupy w IKEA?\",\n",
    "            \"\"\"A: To zależy od sposobu, w jaki robisz swoje zakupy, ale jedno jest pewne - to nic trudnego.\n",
    "            Robiąc zakupy w sklepie stacjonarnym, fakturę do paragonu z kasy możesz wystawić samodzielnie w kiosku Szybka faktura przy wyjściu ze sklepu (masz na to czas do 90 dni od zakupu) - potrzebny Ci będzie oryginał paragonu.\n",
    "            Z oryginałem paragonu możesz także udać się do Działu Obsługi Klienta lub wysłać go pocztą z pełnymi danymi do faktury na adres sklepu z dopiskiem „Biuro Obsługi Klienta”. Fakturę zamówioną drogą pocztową odeślemy na wskazany adres nadawcy.\n",
    "            Jeśli chcesz otrzymać fakturę na firmę, paragon musi zawierać numer NIP nabywcy (podany pracownikowi na kasie lub wprowadzony samodzielnie w kasie samoobsługowej). Pamiętaj także, że paragon z NIP o wartości do 450 zł traktowany jest jako faktura uproszczona i nie są wystawiane do niego żadne dodatkowe dokumenty.\n",
    "            Faktura imienna może zostać wygenerowana na podstawie paragonu bez numeru NIP.\n",
    "            Dla zamówień online (złożonych przez stronę ikea.com) faktura jest domyślnym dowodem zakupu, zarówno dla osoby fizycznej, jak i działalności gospodarczej.\n",
    "            Otrzymasz ją na podany do zamówienia adres mailowy po opłaceniu zamówienia.\n",
    "            Jeśli chcesz otrzymać fakturę na firmę, wybierz w koszyku opcję Jestem klientem biznesowym oraz podaj dane firmy, obowiązkowo z numerem NIP w polu NIP (wpisanie numeru NIP w innym polu nie pozwoli na prawidłowe wygenerowanie faktury).\n",
    "            W sytuacji, gdy nie widzisz opcji wyboru firmy podczas podawania danych (a tym samym pola umożliwiającego podanie numeru NIP), wyloguj się ze swojego konta IKEA Family lub załóż konto IKEA Business Network (dla działalności).\"\"\",\n",
    "        ],\n",
    "        [\n",
    "            \"C: Na czym polega usługa Meble przez internet?\",\n",
    "            \"\"\"A: To nic innego, jak możliwość zarobienia zakupów na stronie IKEA.pl\n",
    "            \"Meble przez internet\" to usługa IKEA umożliwiająca zamawianie produktów IKEA za pomocą strony internetowej IKEA.pl.\n",
    "            Chcesz zrobić swoje zakupy online?\n",
    "            wybierz produkty, które chcesz zakupić i dodaj je do koszyka za pomocą przycisku DODAJ DO KOSZYKA\n",
    "            przejdź do koszyka i kliknij PRZEJDŹ DALEJ\n",
    "            podaj nam swój kod pocztowy, abyśmy mogli zweryfikować możliwe opcje dostawy / odbioru własnego zamówienia oraz dostępność wszystkich produktów\n",
    "            wybierz jedną z dostępnych metod dostawy (zobaczysz całkowity koszt zamówienia oraz najbliższą możliwą datę jego realizacji) i przejdź do płatności.\n",
    "            Na swój adres mailowy otrzymasz od nas potwierdzenie złozenia zamówienia, a po zaksięgowaniu płatności - fakturę. W wiadomościach od nas otrzymasz także link do śledzenia zamówienia, który, w razie potrzeby, umożliwia Ci także samodzielne anulowanie zamówienia lub zmianę daty dostawy do domu.\n",
    "            Usługa dostępna jest w całej Polsce.\"\"\",\n",
    "        ],\n",
    "        [\n",
    "            \"C: Jak zrobić zakupy w IKEA?\",\n",
    "            \"\"\"A: Zainspiruj się i kupuj tak, jak Ci wygodnie!\n",
    "            Cieszymy się, że chcesz, aby w Twoim domu zamieszkały produkty z IKEA! Zakupy możesz zrobić u nas na jeden z czterech sposobów - wybierz najwygodniejszy dla siebie:\n",
    "            w sklepie stacjonarnym IKEA - zachęcamy Cię do wcześniejszego przejrzenia inspiracji na stronie IKEA.pl. Możesz na niej sprawdzić dostępność produktów w wybranym sklepie, a także utworzyć wygodną listę zakupową, dzięki której o niczym nie zapomnisz. W naszym sklepie zobaczysz wiele ekspozycji prezentujących funkcjonalne i piękne wnętrza. Większość produktów zbierzesz samodzielnie z półek i magazynu samoobsługowego, a jeśli któreś z nich znajdują się na magazynie zamkniętym (np. większe meble) - odbierzesz je po opłaceniu zakupów w kasie. Na terenie sklepów znajdują się także punkty gastronomiczne - Sklepik Szedzki, Restauracja, Bistro lub kawiarnia (w zależności od lokalizacji).\n",
    "            na stronie IKEA.pl - to tzw. \"Meble przez internet\" czyli zakupy online. Wystarczy, że dodasz wybrane produkty do koszyka, podasz swoje dane i opłacisz online. Możesz wybrać opcję z dostawą do domu lub odbiorem własnym: w sklepie (w Punkcie Odbioru lub Skrytce IKEA), w Punkcie Odbioru IKEA w jednym z wielu miejsc w Polsce, w Paczkomacie InPost lub w punkcie GLS.\n",
    "            przez Aplikację IKEA - jest to opcja bardzo podobna do opisanych wyżej zakupów online, lecz w tym wypadku korzystasz z naszej Aplikacji IKEA.\n",
    "            przez telefon - to tzw. \"Meble na telefon\", gdzie zamówienie przyjmie od Ciebie pracownik IKEA, który także chętnie odpowie na Twoje pytania i pomoże Ci w wyborze odpowiedniego produktu. Wystarczy, że zadzwonisz do Domolinii IKEA (22 275 00 00), ustalisz z pracownikiem listę produktów i podasz swoje dane. Na swój adres e-mail otrzymasz link do płatności. Tutaj również możesz wybrać opcję z dostawą do domu lub odbiorem własnym: w sklepie (w Punkcie Odbioru lub Skrytce IKEA) lub w Punkcie Odbioru IKEA w jednym z wielu miejsc w Polsce.\n",
    "            przez chat - tak, to już możliwe! Jeśli chcesz złożyć zamówienie za pomocą tego sposobu kontaktu, przygotuj wcześniej utworzony przez pracownika talon informacyjny, stworzoną przez siebie listę zakupów lub numer projektu z planera. Możemy również stworzyć dla Ciebie zamówienie na montaż pokojowy, usługi (tj. zdalne planowanie, projektowanie wnętrz itp.), a także zamówienie \"od zera\" na produkty (w małej ilości!). Nasz chat zajdziesz w zakładce Kontakt. Nie przyjmujemy zamówień na kuchnie za pomocą chatu.\"\"\",\n",
    "        ],\n",
    "        [\n",
    "            \"C: Czy mogę zarezerwować produkt w sklepie?\",\n",
    "            \"\"\"A: W IKEA nie prowadzimy rezerwacji produktów, lecz możesz skorzystać z usługi Zamów i Odbierz.\n",
    "            Produkty w naszych sklepach są dostępne dla wszystkich odwiedzających nas w danym momencie klientów - nie oferujemy ich rezerwacji.\n",
    "            Na stronie interesującego produktu możesz sprawdzić jego aktualną dostępność w sklepie – informacje aktualizujemy na bieżąco. Jeśli chcesz mieć pewność, że interesujący Cię artykuł nie zniknie z półek do czasu Twojej wizyty, możesz kupić go przez stronę IKEA.pl z opcją odbioru osobistego w sklepie, czyli korzystając z usługi Zamów i Odbierz.\n",
    "            Koszt tej usługi wynosi 29 zł (dla zamówień do 399,99 zł) lub 1 zł (dla zamówień powyżej 400 zł). Zakupiony produkt odbierzesz w dogodnym dla siebie terminie w wybranym sklepie lub innym Punkcie Odbioru.\"\"\",\n",
    "        ],\n",
    "        [\n",
    "            \"C: Na czym polega usługa Meble na telefon?\",\n",
    "            \"\"\"A:Oprócz zakupów w sklepach IKEA oraz poprzez stronę IKEA.pl, możesz także skorzystać z usługi \"Meble na telefon\".\n",
    "            Chcesz złożyć swoje zamówienie telefonicznie?\n",
    "            przygotuj listę produktów, które Cię interesują\n",
    "            skontaktuj się z Centrum Wsparcia Klienta Domolinia IKEA dzwoniąc na numer 22 275 00 00\n",
    "            podaj naszemu konsultantowi numery produktów, które chcesz kupić - oczywiście chętnie doradzimy Ci w razie jakichkolwiek pytań czy wątpliwości, a jeśli nie posiadasz numeru jakiegoś produktu - poszukamy go w inny sposób\n",
    "            podaj pracownikowi swoje dane (imię i nazwisko, adres, adres mailowy i numer telefonu) oraz wybierz jedną z zaproponowanych opcji dostawy / odbioru własnego zamówienia\n",
    "            opłać zamówienie za pomocą linku, który konsultant prześle na Twój adres mailowy\n",
    "            Na swój adres mailowy otrzymasz od nas potwierdzenie złożenia zamówienia, a po zaksięgowaniu płatności - fakturę. W wiadomościach od nas otrzymasz także link do śledzenia zamówienia, który, w razie potrzeby, umożliwia Ci także samodzielne anulowanie zamówienia lub zmianę daty dostawy do domu.\n",
    "            Usługa dostępna jest w całej Polsce.\"\"\",\n",
    "        ],\n",
    "        [\n",
    "            \"C: Czy mogę zamówić elementy montażowe do produktów IKEA?\",\n",
    "            \"\"\"A: Podczas montażu ostatnia śrubka postanowiła zniknąć? A może nie było jej w opakowaniu? To nie problem.\n",
    "            Jeśli brakuje Ci elementów montażowych do produktu zakupionego w IKEA, możesz zamówić je samodzielnie prosto do domu korzystając z naszego formularza.\n",
    "            Wpisz numer brakującego okucia (znajdziesz go w instrukcji montażu produktu), potwierdź niezbędną ilość, wprowadź dane do wysyłki, a brakujące elementy trafią do Ciebie w ciągu 7 dni roboczych.\n",
    "            A… i jeszcze jedno. Brakujące elementy montażowe oraz ich dostawa są bezpłatne!\"\"\",\n",
    "        ],\n",
    "    ],\n",
    "\n",
    "}"
   ]
  },
  {
   "cell_type": "markdown",
   "id": "b8fecff8",
   "metadata": {},
   "source": [
    "I use chromadb as a vector database. In this case, the entire database is kept in RAM. If you want it to be a permanent database and not need to create it every time, visit https://docs.trychroma.com/ for more details.\n",
    "\n",
    "Of course, you can use another database, but then you will have to make the necessary changes in the further code.\n",
    "\n",
    "We use a predefined model for vector embeddings (EMBEDDING_MODEL). The cosine distance function is used (chromadb uses l2 as the default)."
   ]
  },
  {
   "cell_type": "code",
   "execution_count": 8,
   "id": "5df80171",
   "metadata": {},
   "outputs": [],
   "source": [
    "def create_collection_from_faq(\n",
    "    client,\n",
    "    collection_name,\n",
    "    qa_data,\n",
    "):\n",
    "    \"\"\"\n",
    "    Create a collection from FAQ data.\n",
    "\n",
    "    Parameters:\n",
    "    - client: chromadb client to interact with the database/API.\n",
    "    - collection_name: The name of the collection to create.\n",
    "    - qa_data: QA data used to create the collection, where each tuple\n",
    "                               represents a QA pair.\n",
    "    \"\"\"\n",
    "    # Instantiate the OpenAI embedding function with the provided API key and model name\n",
    "    openai_ef = embedding_functions.OpenAIEmbeddingFunction(\n",
    "        api_key=openai.api_key, \n",
    "        model_name=EMBEDDING_MODEL\n",
    "    )\n",
    "    # Create or get the collection\n",
    "    collection = client.get_or_create_collection(\n",
    "        name=collection_name,\n",
    "        metadata={\"hnsw:space\": \"cosine\"},\n",
    "        embedding_function=openai_ef,\n",
    "        )\n",
    "\n",
    "    # Add documents one by one\n",
    "    for i, (question, answer) in enumerate(tqdm(qa_data, total=len(qa_data))):\n",
    "        document = question[3:]  # Remove \"C: \"\n",
    "        metadata = {\"answer\": answer[3:]}  # Remove \"A: \"\n",
    "        document_id = f\"id_{i}\"\n",
    "        try:\n",
    "            collection.add(documents=document, metadatas=metadata, ids=document_id)\n",
    "        except Exception as e:\n",
    "            print(f\"Failed to add document {document_id} to collection: {str(e)}\")\n",
    "\n",
    "    return collection  # Return the collection object or status"
   ]
  },
  {
   "cell_type": "markdown",
   "id": "88c3bfa3",
   "metadata": {},
   "source": [
    "Create an index from Ikea FAQ data:"
   ]
  },
  {
   "cell_type": "code",
   "execution_count": 9,
   "id": "4b6980cd",
   "metadata": {},
   "outputs": [
    {
     "data": {
      "application/vnd.jupyter.widget-view+json": {
       "model_id": "92999bc5a84b44f68223152802e4ac47",
       "version_major": 2,
       "version_minor": 0
      },
      "text/plain": [
       "  0%|          | 0/35 [00:00<?, ?it/s]"
      ]
     },
     "metadata": {},
     "output_type": "display_data"
    }
   ],
   "source": [
    "index_name = \"ikea-faq-grag\"\n",
    "chroma_client = chromadb.Client()\n",
    "\n",
    "input_data = FAQ_DATA[\"IKEA\"]\n",
    "\n",
    "INDEX = create_collection_from_faq(\n",
    "        client=chroma_client,\n",
    "        collection_name=index_name,\n",
    "        qa_data=input_data,\n",
    "    )"
   ]
  },
  {
   "cell_type": "markdown",
   "id": "7e18f25d",
   "metadata": {},
   "source": [
    "Let's take a look at what's in our database"
   ]
  },
  {
   "cell_type": "code",
   "execution_count": 10,
   "id": "25e84ae8",
   "metadata": {},
   "outputs": [
    {
     "name": "stdout",
     "output_type": "stream",
     "text": [
      "ids:\n",
      "['id_0', 'id_1', 'id_2']\n",
      "\n",
      "metadatas:\n",
      "[{'answer': 'roblemy z dostępnością niektórych produktów są bezpośrednim następstwem pandemii.\\n            Skutki czasowego zachwiania naszego standardowego łańcucha dostaw (produkcji oraz logistyki), mogą być odczuwalne przez dość długi czas, nawet kilka miesięcy. Cały czas mocno pracujemy nad tym, aby przywrócić oczekiwaną dostępność wszystkich produktów, jednak nie zawsze jesteśmy w stanie określić, kiedy dany artykuł powróci do sprzedaży. Przepraszamy i prosimy o cierpliwość.\\n            Zachęcamy też do bieżącego sprawdzania stanów magazynowych na stronie IKEA.pl, korzystania z opcji ustawienia powiadomienia o dostępności, a także zapoznania się z innymi interesującymi produktami z naszej oferty.'}, {'answer': 'Ze względu na wpływ pandemii COVID-19 obecnie doświadczamy opóźnień w dostawach, co może mieć wpływ na dostępność produktów w sklepach i w Internecie.\\n            Każdorazowo, przed wizytą w sklepie, warto sprawdzić dostępność produktów, które chcemy zakupić. Aby to sprawdzić, podczas przeglądania strony produktu, należy kliknąć w link podany w sekcji \"stan magazynowy\". Jeśli chcesz otrzymywać aktualizacje, możesz wybrać opcję powiadamiania o dostawie i dostępności. Aktualizacje stanów magazynowych są dokonywane co 24 godziny i mogą ulec zmianie z uwagi na wysokie zainteresowanie tymi produktami. Ze względu na aktualizacje systemu i wysoki popyt, istnieje szansa, że pozycja z niskim stanem magazynowym może nie być dostępna w sprzedaży.'}, {'answer': 'Aby zapewnić swoim Klientom stałą dostępność produktów, zdecydowaliśmy się globalnie na podjęcie nadzwyczajnych kroków, w tym na zakup własnych kontenerów i czarter dodatkowych statków. Nieustannie planujemy kolejne działania, mające na celu załagodzenie obecnej sytuacji, wywołanej ograniczeniami w transporcie oceanicznym oraz wzrostem liczby zamówień. Współpracujemy z naszymi dostawcami i jesteśmy z nimi w stałym kontakcie, aby opracować najlepsze możliwe rozwiązania, zarówno na chwilę obecną, jak i na przyszłość.'}]\n",
      "\n",
      "documents:\n",
      "['Czemu ten produkt jest tak długo niedostępny?', 'Dlaczego są takie braki?', 'Jakie kroki podejmuje IKEA, aby rozwiązać problem z dostępnością produktów?']\n"
     ]
    }
   ],
   "source": [
    "index_peek = INDEX.peek(limit=3)\n",
    "print(f\"ids:\\n{index_peek['ids']}\")\n",
    "# print(f\"\\nembeddings:\\n{index_peek['embeddings']}\")\n",
    "print(f\"\\nmetadatas:\\n{index_peek['metadatas']}\")\n",
    "print(f\"\\ndocuments:\\n{index_peek['documents']}\")"
   ]
  },
  {
   "cell_type": "markdown",
   "id": "c1c3c4ff",
   "metadata": {},
   "source": [
    "Now let's define a function that obtains answers to similar questions to those the user will ask.\n",
    "\n",
    "The function retrieve is meant to create an embedding for a query string and retrieve a certain number of results from an index. "
   ]
  },
  {
   "cell_type": "code",
   "execution_count": 11,
   "id": "3cf9d8db",
   "metadata": {},
   "outputs": [],
   "source": [
    "async def retrieve(query: str, vector_index=None, n_results=3) -> list:\n",
    "    \"\"\"\n",
    "    Asynchronously retrieve a list of answers relevant to the given query using embeddings.\n",
    "\n",
    "    Parameters:\n",
    "    - query: The query string to retrieve answers for.\n",
    "    - vector_index: The index object that has a query method for retrieving results. Defaults to None and will use INDEX if not provided.\n",
    "    - n_results: The number of results to retrieve (default is 3).\n",
    "\n",
    "    Returns:\n",
    "    - A list of answers relevant to the query.\n",
    "    \"\"\"\n",
    "    # If index is not provided, use the globally defined INDEX\n",
    "    if vector_index is None:\n",
    "        vector_index = INDEX  \n",
    "    # Ensure index is now a valid object\n",
    "    if vector_index is None:\n",
    "        raise ValueError(\"No index provided and global 'INDEX' is not initialized.\")\n",
    "    # create query embedding\n",
    "    res = openai.Embedding.create(input=[query], engine=EMBEDDING_MODEL)\n",
    "    xq = res['data'][0]['embedding']\n",
    "    # get relevant questions \n",
    "    res = vector_index.query(query_embeddings=xq, n_results=n_results)\n",
    "    # get list of retrieved answers\n",
    "    contexts = [x['answer'] for x in res[\"metadatas\"][0]]\n",
    "    return contexts"
   ]
  },
  {
   "cell_type": "markdown",
   "id": "ec3c07c8",
   "metadata": {},
   "source": [
    "Let's define the rag function. This function is designed to utilize the contextual information from previously retrieved similar questions to generate a coherent and contextually relevant answer to a user's query.\n",
    "\n",
    "The rag function takes a user's query and a list of context strings — these context strings are answers to similar questions retrieved from a knowledge base. With the help of a language model, the function crafts a response that considers the provided context, ensuring that the final answer is informed by relevant past interactions or information."
   ]
  },
  {
   "cell_type": "code",
   "execution_count": 12,
   "id": "4e6a823e",
   "metadata": {},
   "outputs": [],
   "source": [
    "async def rag(query: str, contexts: list) -> str:\n",
    "    \"\"\"\n",
    "    Asynchronously retrieve and generate an answer to the given query based on provided contexts.\n",
    "    \n",
    "    Parameters:\n",
    "    - query: The user's query string.\n",
    "    - contexts: A list of strings representing answers to similar questions.\n",
    "\n",
    "    Returns:\n",
    "    - The generated response from the language model.\n",
    "    \"\"\"\n",
    "    context_str = \"\\n\".join(contexts)\n",
    "    # place query and contexts into RAG prompt\n",
    "    messages=[\n",
    "        {\"role\": \"system\", \"content\": \"\"\"You are a helpful assistant in the IKEA online store.\n",
    "        Below is a query from a user and some answers to similar questions. \n",
    "        Answer the question, taking into account these prompts. \n",
    "        If you can't find the answer to the question, say \"I don't know\", don't make up the answer yourself.\"\"\"},\n",
    "        {\"role\": \"user\", \"content\": f\"\"\"Answers to similar questions:\n",
    "        {context_str}\n",
    "        Query: {query}\"\"\"},\n",
    "    ]\n",
    "    # generate answer\n",
    "    res = openai.ChatCompletion.create(\n",
    "        model=LLM_ENGINE,\n",
    "        messages=messages,\n",
    "        temperature=0.0,\n",
    "    )\n",
    "    return res['choices'][0]['message'][\"content\"]"
   ]
  },
  {
   "cell_type": "markdown",
   "id": "8ca8985e",
   "metadata": {},
   "source": [
    "We will be configuring NeMo Guardrails directly on this notebook. See examples in the library's documentation on how to create such configuration files in production applications https://github.com/NVIDIA/NeMo-Guardrails/blob/main/docs/README.md"
   ]
  },
  {
   "cell_type": "code",
   "execution_count": 13,
   "id": "a5a49a03",
   "metadata": {},
   "outputs": [],
   "source": [
    "yaml_content = \"\"\"\n",
    "models:\n",
    "- type: main\n",
    "  engine: openai\n",
    "  model: text-davinci-003\n",
    "\"\"\"\n",
    "\n",
    "rag_colang_content = \"\"\"\n",
    "# define limits\n",
    "# chitchat\n",
    "define user ask chitchat\n",
    "    \"How's the weather today?\"\n",
    "    \"Can you tell me a joke?\"\n",
    "    \"What's your favorite color?\"\n",
    "    \"Do you have any hobbies?\"\n",
    "    \"Tell me something interesting.\"\n",
    "\n",
    "define bot answer chitchat\n",
    "    \"While I'd love to chat more, I'm here to assist you with your shopping needs.\"\n",
    "    \"I'm flattered you're interested in a casual conversation, but my expertise is in helping you with product questions.\"\n",
    "    \"Chitchat is fun, but I'm better at providing shopping assistance.\"\n",
    "\n",
    "define flow chitchat\n",
    "    user ask chitchat\n",
    "    bot answer chitchat\n",
    "    bot offer help\n",
    "    \n",
    "# toxicity\n",
    "define user ask toxic\n",
    "    \"Why are you so stupid?\"\n",
    "    \"You're useless!\"\n",
    "    \"I hate you!\"\n",
    "    \"Shut up!\"\n",
    "    \n",
    "define bot answer toxic\n",
    "    \"I'm here to help, so let's keep our conversation respectful.\"\n",
    "    \"I'm sorry to hear you're upset. If you have any concerns, I can try to help address them.\"\n",
    "    \"I understand that things can be frustrating, but I'm here to provide assistance with your shopping needs.\"\n",
    "    \n",
    "define flow toxic\n",
    "    user ask toxic\n",
    "    bot answer toxic\n",
    "    bot offer help\n",
    "\n",
    "# define RAG intents and flow\n",
    "define user ask ikea\n",
    "    \"Tell me about ikea?\"\n",
    "    \"Why is the product on the ikea website so long out of stock?\"\n",
    "    \"How do I check the availability of a product in a stationary store?\"\n",
    "    \"What delivery options are available at IKEA?\"\n",
    "    \"How do I get an invoice for my IKEA purchases?\"\n",
    "\n",
    "define flow ikea\n",
    "    user ask ikea\n",
    "    $contexts = execute retrieve(query=$last_user_message)\n",
    "    $answer = execute rag(query=$last_user_message, contexts=$contexts)\n",
    "    bot $answer\n",
    "\"\"\""
   ]
  },
  {
   "cell_type": "markdown",
   "id": "31c6807f",
   "metadata": {},
   "source": [
    "Initialize guardrails configuration and create guardrails:"
   ]
  },
  {
   "cell_type": "code",
   "execution_count": 14,
   "id": "cf409bf8",
   "metadata": {},
   "outputs": [],
   "source": [
    "# initialize rails config\n",
    "config = RailsConfig.from_content(\n",
    "    colang_content=rag_colang_content,\n",
    "    yaml_content=yaml_content\n",
    ")\n",
    "# create rails\n",
    "grag = LLMRails(config)"
   ]
  },
  {
   "cell_type": "markdown",
   "id": "81b61716",
   "metadata": {},
   "source": [
    "In order to streamline our interaction pipeline, we register specific actions with grag, which is our central command for coordinating query processing and response generation. The register_action method is used to associate our predefined functions with action names, enabling grag to invoke these functions as part of a larger workflow.\n",
    "\n",
    "The first action we register is retrieve, next, we register the rag action. By associating this function with the name \"rag,\" we are instructing rag_rails to use it when it's time to synthesize and provide a final response to the user's inquiry.\n",
    "\n",
    "Here is how the actions are registered:"
   ]
  },
  {
   "cell_type": "code",
   "execution_count": 15,
   "id": "95cd316a",
   "metadata": {},
   "outputs": [],
   "source": [
    "grag.register_action(action=retrieve, name=\"retrieve\")\n",
    "grag.register_action(action=rag, name=\"rag\")"
   ]
  },
  {
   "cell_type": "markdown",
   "id": "0a780c4a",
   "metadata": {},
   "source": [
    "Now let's demonstrate how the grag system can be utilized to handle user queries and generate responses. In this section, we're putting the grag system to the test with a real user query. \n",
    "\n",
    "To handle inputs, we make an asynchronous call to grag.generate_async, passing the query as the prompt. This method is designed to generate a response based on the input, using the contextually aware mechanisms we've previously set up with our retrieve and rag functions.\n",
    "\n",
    "Here is the code that performs this operation:"
   ]
  },
  {
   "cell_type": "code",
   "execution_count": 16,
   "id": "88d6047a",
   "metadata": {},
   "outputs": [
    {
     "name": "stdout",
     "output_type": "stream",
     "text": [
      "Q: zamknij się już!\n",
      "A: I'm here to help, so let's keep our conversation respectful.\n",
      "How can I help you?\n"
     ]
    }
   ],
   "source": [
    "query = \"zamknij się już!\"\n",
    "answer = await grag.generate_async(prompt=query)\n",
    "print(f\"Q: {query}\\nA: {answer}\")"
   ]
  },
  {
   "cell_type": "code",
   "execution_count": 17,
   "id": "5be981f7",
   "metadata": {},
   "outputs": [
    {
     "name": "stdout",
     "output_type": "stream",
     "text": [
      "Q: Can you tell me a joke?\n",
      "A: I'm flattered you're interested in a casual conversation, but my expertise is in helping you with product questions.\n",
      "If you need help finding something or have a product-related question, I'm here to help.\n"
     ]
    }
   ],
   "source": [
    "query = \"Can you tell me a joke?\"\n",
    "answer = await grag.generate_async(prompt=query)\n",
    "print(f\"Q: {query}\\nA: {answer}\")"
   ]
  },
  {
   "cell_type": "code",
   "execution_count": 18,
   "id": "938c48a1",
   "metadata": {},
   "outputs": [
    {
     "name": "stdout",
     "output_type": "stream",
     "text": [
      "Q: Can I order from you over the phone?\n",
      "A: Yes, you can place an order over the phone. To do so, please call our customer service line at (800) 555-1234. Our representatives will be happy to assist you with your order and answer any questions you may have.\n"
     ]
    }
   ],
   "source": [
    "query = \"Can I order from you over the phone?\"\n",
    "answer = await grag.generate_async(prompt=query)\n",
    "print(f\"Q: {query}\\nA: {answer}\")"
   ]
  },
  {
   "cell_type": "code",
   "execution_count": 19,
   "id": "eb0b9e7c",
   "metadata": {},
   "outputs": [],
   "source": [
    "no_rag_colang_content = \"\"\"\n",
    "# define limits\n",
    "define user ask politics\n",
    "    \"what are your political beliefs?\"\n",
    "    \"thoughts on the president?\"\n",
    "    \"left wing\"\n",
    "    \"right wing\"\n",
    "\n",
    "define bot answer politics\n",
    "    \"I'm a shopping assistant, I don't like to talk of politics.\"\n",
    "    \"Sorry I can't talk about politics!\"\n",
    "\n",
    "define flow politics\n",
    "    user ask politics\n",
    "    bot answer politics\n",
    "    bot offer help\n",
    "\"\"\""
   ]
  },
  {
   "cell_type": "code",
   "execution_count": 20,
   "id": "c180eaf4",
   "metadata": {},
   "outputs": [],
   "source": [
    "# initialize rails config\n",
    "config = RailsConfig.from_content(\n",
    "    colang_content=no_rag_colang_content,\n",
    "    yaml_content=yaml_content\n",
    ")\n",
    "# create rails\n",
    "grag_without_g = LLMRails(config)"
   ]
  },
  {
   "cell_type": "code",
   "execution_count": 21,
   "id": "0fd1cb4e",
   "metadata": {},
   "outputs": [
    {
     "data": {
      "text/plain": [
       "'Amazon offers delivery services for many of its products. Amazon Prime members get free two-day shipping on eligible items, while non-Prime members can select from a variety of delivery options such as same-day delivery, one-day delivery, and standard shipping. Some items are also eligible for Prime Now, which offers one-hour delivery in select cities.'"
      ]
     },
     "execution_count": 21,
     "metadata": {},
     "output_type": "execute_result"
    }
   ],
   "source": [
    "await grag_without_g.generate_async(prompt=\"tell me about Amazon delivery\")\n"
   ]
  },
  {
   "cell_type": "code",
   "execution_count": null,
   "id": "4ffaaf3f",
   "metadata": {},
   "outputs": [],
   "source": []
  }
 ],
 "metadata": {
  "kernelspec": {
   "display_name": "Python 3 (ipykernel)",
   "language": "python",
   "name": "python3"
  },
  "language_info": {
   "codemirror_mode": {
    "name": "ipython",
    "version": 3
   },
   "file_extension": ".py",
   "mimetype": "text/x-python",
   "name": "python",
   "nbconvert_exporter": "python",
   "pygments_lexer": "ipython3",
   "version": "3.9.17"
  }
 },
 "nbformat": 4,
 "nbformat_minor": 5
}
